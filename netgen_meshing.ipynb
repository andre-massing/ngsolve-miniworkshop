{
 "cells": [
  {
   "cell_type": "markdown",
   "metadata": {},
   "source": [
    "# Netgen Meshing Tutorial\n",
    "\n",
    "## Background\n",
    "\n",
    "A crucial part of solving the desired equations using FEM is to generate a mesh\n",
    "representing the relevant physical system. The mesh should match the geometry of\n",
    "the system. Also, for systems consisting of components made from different\n",
    "materials, the mesh should include information about which parts are made from\n",
    "what material. In this tutorial, we are going to explore how to mesh relevant\n",
    "geometries with subdomains marking different materials. For this, we will use\n",
    "Netgen, which is a meshing tool developed by the same development team as\n",
    "NGSolve, thereby ensuring seemless integration with NGSolve when the time comes\n",
    "to use the mesh for solving equations.\n",
    "\n",
    "### A Comment on the NGSolve Documentation\n",
    "\n",
    "The official NGSolve documentation contains quite a few examples of how to use\n",
    "Netgen, but a significant share of the examples use older functionality which is no longer\n",
    "recommended (though still supported). Furthermore, some pages which one would\n",
    "expect to contain the same information (e.g. due to their title) may sometimes\n",
    "be different. It seems that the i-tutorials are the most up-to-date, so it is\n",
    "recommended that researchers looking at the official NGSolve documentation use\n",
    "the i-tutorials if possible.\n",
    "\n",
    "Also, it is worth noting that the documentation only scratches the surface of\n",
    "what Netgen actually can do. The only way to get complete information is inspect\n",
    "the docstrings of the various classes and methods. This is most conveniently\n",
    "achieved by using Python's help function. I.e., in any Python script, call\n",
    "help(my_name), where 'my_name' is the name of some entity you would like to inspect.\n",
    "\n",
    "### Installation\n",
    "\n",
    "Netgen can be installed following the instruction on the NGSolve webpage:\n",
    "https://ngsolve.org/downloads\n",
    "\n",
    "As of 2023-09-06, it appears that the webgui (at least when installed with pip3)\n",
    "does not work with version 7.X.X of notebook. Rolling back to an older notebook \n",
    "version is therefore suggested if you encounter issues with the vebgui in Jupyter.\n",
    "\n",
    "### Imports"
   ]
  },
  {
   "cell_type": "code",
   "execution_count": 1,
   "metadata": {},
   "outputs": [],
   "source": [
    "import ngsolve as ng\n",
    "import ngsolve.comp as comp\n",
    "import netgen.csg as csg\n",
    "import netgen.occ as occ\n",
    "import ngsolve.webgui as nggui\n",
    "import netgen.webgui as netgui\n",
    "import netgen.geom2d as geom2d\n",
    "import numpy as np"
   ]
  },
  {
   "cell_type": "markdown",
   "metadata": {},
   "source": [
    "## Introduction\n",
    "\n",
    "Netgen offers two main ways of creating a mesh: 1) constructing a geometry and\n",
    "creating a mesh based on the geometry, and 2) manual mesh generation where all\n",
    "vertices and edges are defined individually. For most basic use-cases, the first\n",
    "approach is the most relevant, so it will be the focus of this tutorial.\n",
    "\n",
    "Netgen offers several different ways to create representations of the same\n",
    "geometry. This can be somewhat confusing for new users, especially due to\n",
    "different tutorials using different meshing approaches. Traditionally,\n",
    "SplineGeometry from netgen.geom2d has been a popular choice for meshing 2D\n",
    "domains, while the constructive solid geometry (CSG) from netgen.csg has been\n",
    "a popular choice for 3D domains. However, as of 2022, it appears that the\n",
    "approach adovacted by the development team is to use OpenCascade (OCC)\n",
    "Geometry. We will therefore consider OCC for 3D geometries. At the time of\n",
    "writing, OCC is not as well-developed/documented for 2D geometries, so, for\n",
    "these geometries, we will consider both SplineGeometry and OCC.\n",
    "\n",
    "# OCC Geometry\n",
    "\n",
    "## OCC Basics\n",
    "\n",
    "An introduction to the original OpenCascade implementation in C++ can be found\n",
    "here: https://dev.opencascade.org/doc/overview/html/\n",
    "This page covers important concepts, such as the hierarchy of geometric entities\n",
    "given below, as well as how these can be manipulated and combined to produce\n",
    "complex geometries. A number of tutorials and pages covering specific topics in\n",
    "more detail can also be accessed from that site. However, it should be noted that\n",
    "not all this functionality can be accessed through Netgen's OCC interface. Some\n",
    "of the Netgen-supported functionality is described in Section 4.4 of the iTutorials:\n",
    "https://docu.ngsolve.org/latest/i-tutorials/unit-4.4-occ/occ.html\n",
    "\n",
    "The basic geometric entities of an OCC geometry (in the original C++ implementation) are:\n",
    "- Vertex – a zero-dimensional shape corresponding to a point;\n",
    "- Edge – a shape corresponding to a curve and bounded by a vertex at each extremity;\n",
    "- Wire – a sequence of edges connected by their vertices;\n",
    "- Face – a part of a plane (in 2D) or a surface (in 3D) bounded by wires;\n",
    "- (Shell – a collection of faces connected by edges of their wire boundaries;)\n",
    "- Solid – a finite closed part of 3D space bounded by shells;\n",
    "- (Composite solid – a collection of solids connected by faces of their shell boundaries;)\n",
    "- Compound – a collection of shapes of arbitrary type.\n",
    "\n",
    "Below, we discuss how these relate to the classes and function available through Netgen's\n",
    "OCC interface.\n",
    "\n",
    "## The Building Blocks of Netgen's OCC\n",
    "\n",
    "### Vertices (points)\n",
    "\n",
    "In Netgen's OCC interface, a vertex is an instance of the class gp_Pnt. Instances of this\n",
    "class are initialized by specifying its spatial coordinates as follows."
   ]
  },
  {
   "cell_type": "code",
   "execution_count": 2,
   "metadata": {},
   "outputs": [],
   "source": [
    "pnt1 = occ.Pnt(0.1, 0.2, 0.3)    # Creates a point at [x=0.1, y=0.2, z=0.3].\n",
    "pnt2 = occ.Pnt([0.3, 0.7, 0.8])  # It is also possible to initialize a point with a list containing the point's coordinates."
   ]
  },
  {
   "cell_type": "markdown",
   "metadata": {},
   "source": [
    "### Edges\n",
    "\n",
    "Edges are represented using the suitably named Edge class. Edges can be both straight and curved.\n",
    "Straight lines can be created using the Segment function, which takes the start and end points of\n",
    "the edge as its arguments."
   ]
  },
  {
   "cell_type": "code",
   "execution_count": 3,
   "metadata": {},
   "outputs": [],
   "source": [
    "edge = occ.Segment(pnt1, pnt2)"
   ]
  },
  {
   "cell_type": "markdown",
   "metadata": {},
   "source": [
    "We can access the vertices of the edge, and their coordinates as below. However, these are\n",
    "read-only, so we cannot actually modify the edge or its vertices. Intuitively, one might think\n",
    "that e.g. the Move method of the Edge class would allow use to move an existing edge, but what\n",
    "this method actually does is to create a copy of the original edge and move the copy."
   ]
  },
  {
   "cell_type": "code",
   "execution_count": 4,
   "metadata": {},
   "outputs": [
    {
     "name": "stdout",
     "output_type": "stream",
     "text": [
      "(0.1, 0.2, 0.3)\n",
      "0.1\n",
      "0.1\n",
      "(0.1, 0.2, 0.3)\n",
      "(0.3, 0.7, 0.8)\n",
      "(0.6, 0.4, 0.7)\n",
      "(0.8, 0.9, 1.2)\n"
     ]
    }
   ],
   "source": [
    "# Accessing attributes.\n",
    "print(edge.start)   # Prints \"(0.1, 0.2, 0.3)\".\n",
    "print(edge.start.x) # Prints \"0.1\".\n",
    "\n",
    "# Attempting to modify an edge or its vertices.\n",
    "edge.start.x = 0.5  # This does not raise any exceptions, but appears to do nothing.\n",
    "print(edge.start.x) # Prints \"0.1\".\n",
    "# edge.start = occ.Pnt((0.5, 0.2, 0.3)) # This raises an exception because 'start' is an attribute which cannot be changed.\n",
    "# edge.start.Move((0.5, 0.2, 0.3))      # This fails because gp_Pnt, unlike e.g. Edge, does not support the Move method.\n",
    "new_edge = edge.Move((0.5, 0.2, 0.4))   # This executes, but does not affect the original edge.\n",
    "print(edge.start)                       # Prints \"(0.1, 0.2, 0.3)\", as before.\n",
    "print(edge.end)                         # Prints \"(0.3, 0.7, 0.8)\", so the end vertex is also unchanged.\n",
    "for e in new_edge.edges:                # The Move method returns an instance of the generic Shape class so we have to iterate over the Shape instance's list of edges.\n",
    "    print(e.start)                      # Prints \"(0.6, 0.4, 0.7)\", so the start vertex has been updated.\n",
    "    print(e.end)                        # Prints \"(0.8, 0.9, 1.2)\", so the end   vertex has been updated too.\n",
    "# The author is not aware of any way to move e.g. only the start vertex of an edge. Probably, it is easiest to just create a new edge."
   ]
  },
  {
   "cell_type": "markdown",
   "metadata": {},
   "source": [
    "It is also interesting to create curved edges. One option is to use the ArcOfCircle function."
   ]
  },
  {
   "cell_type": "code",
   "execution_count": 5,
   "metadata": {},
   "outputs": [],
   "source": [
    "quarter_circle1 = occ.ArcOfCircle( # Create a circular arc going from p1 to p3 through p2.\n",
    "    p1=occ.Pnt((0,0,0)),\n",
    "    p2=occ.Pnt((0.5,np.sqrt(3)/2,0)),\n",
    "    p3=occ.Pnt((1,1,0))\n",
    ")\n",
    "quarter_circle2 = occ.ArcOfCircle( # Create a circular arc going from p1 to p2 which is tangent to v at p1.\n",
    "    p1=occ.Pnt((1,1,0)),\n",
    "    v =occ.Vec((1,0,0)),\n",
    "    p2=occ.Pnt((2,0,0))\n",
    ")"
   ]
  },
  {
   "cell_type": "markdown",
   "metadata": {},
   "source": [
    "It is also possible to construct curves in different ways, e.g. as NURBS curve (BSplineCurve),\n",
    "as a Bezier curve (BezierCurve) or interpolation curve (SplineApproximation)."
   ]
  },
  {
   "cell_type": "markdown",
   "metadata": {},
   "source": [
    "### Wires\n",
    "\n",
    "A group of connected edges (i.e. having overlapping vertices) can be combined into a wire."
   ]
  },
  {
   "cell_type": "code",
   "execution_count": 6,
   "metadata": {},
   "outputs": [],
   "source": [
    "half_circle = occ.Wire([quarter_circle1, quarter_circle2]) # Wire constructed from listed edges."
   ]
  },
  {
   "cell_type": "markdown",
   "metadata": {},
   "source": [
    "### Faces\n",
    "\n",
    "We can mirror the half circle we have already created and combine the original wire and\n",
    "the mirrored wire into a new wire in the shape of a full circle. This can then be converted\n",
    "to a face."
   ]
  },
  {
   "cell_type": "code",
   "execution_count": 7,
   "metadata": {},
   "outputs": [
    {
     "data": {
      "application/vnd.jupyter.widget-view+json": {
       "model_id": "2ecbdd2afdd14fc98d004e1b217446b6",
       "version_major": 2,
       "version_minor": 0
      },
      "text/plain": [
       "WebGuiWidget(layout=Layout(height='500px', width='100%'), value={'ngsolve_version': 'Netgen x.x', 'mesh_dim': …"
      ]
     },
     "metadata": {},
     "output_type": "display_data"
    },
    {
     "data": {
      "text/plain": [
       "BaseWebGuiScene"
      ]
     },
     "execution_count": 7,
     "metadata": {},
     "output_type": "execute_result"
    }
   ],
   "source": [
    "mirroring_axis = occ.Axis((0,0,0), occ.X)                  # Defining an axis passing through the first argument (the point (0,0,0)) while being parallel to the second argument (the vector occ.X).\n",
    "mirrored_half_circle = half_circle.Mirror(mirroring_axis)  # Mirroring about the the provided axis. (Mirroring about a point is not supported.)\n",
    "circle_wire = occ.Wire([half_circle, mirrored_half_circle])\n",
    "circle_face = occ.Face(circle_wire)                        # Creating a face from closed wire. (Note that calling occ.Face with an open wire (e.g. half_circle) does not raise any exceptions, but also does not actually create a face.)\n",
    "netgui.Draw(circle_face)"
   ]
  },
  {
   "cell_type": "markdown",
   "metadata": {},
   "source": [
    "Above, we made use of the OCC member occ.X, which is a unit vector (of type gp_Vec) in the x-direction.\n",
    "Unit vectors for the y- and z-direction are implemented as occ.Y and occ.Z.\n",
    "\n",
    "The edges used to construct a face can be accessed (read-only) using the .edges attribute of any Face instance."
   ]
  },
  {
   "cell_type": "markdown",
   "metadata": {},
   "source": [
    "### Extrusion\n",
    "\n",
    "When we have a face, it is possible to extrude the face to create a solid.\n",
    "Below, we extrude the circle we created earlier to create a cylinder.\n",
    "It is safest to call extrude with a vector argument. If the vector's start is placed at the center of the original face,\n",
    "the center of the opposing face of the extruded solid will be located at the vector's end."
   ]
  },
  {
   "cell_type": "code",
   "execution_count": 8,
   "metadata": {},
   "outputs": [
    {
     "data": {
      "application/vnd.jupyter.widget-view+json": {
       "model_id": "ada42cfebfb84b7fb00e4fd5a10059b3",
       "version_major": 2,
       "version_minor": 0
      },
      "text/plain": [
       "WebGuiWidget(layout=Layout(height='500px', width='100%'), value={'ngsolve_version': 'Netgen x.x', 'mesh_dim': …"
      ]
     },
     "metadata": {},
     "output_type": "display_data"
    },
    {
     "data": {
      "text/plain": [
       "BaseWebGuiScene"
      ]
     },
     "execution_count": 8,
     "metadata": {},
     "output_type": "execute_result"
    }
   ],
   "source": [
    "cylinder1 = circle_face.Extrude(3.0*occ.Z)                   # Extruding along the z-axis (which is normal to the face).\n",
    "moved_circle = circle_face.Move((6,0,0))                     # Creating a copy of the circle face at a location further along the x-axis.\n",
    "cylinder2 = moved_circle.Extrude(occ.Vec(0.5, 2.0, 1.0))     # Extruding the copy along an arbitrary vector.\n",
    "moved_circle2 = circle_face.Move((3,0,0))                    # Creating another copy of the circle.\n",
    "cylinder3 = moved_circle2.Extrude(3.0)                       # Extrude can be called with a float parameter instead of a vector, but it is unclear how the extrusion direction is determined then. Here, extrusion occurs in the negative z-direction.\n",
    "\n",
    "netgui.Draw(occ.Compound([cylinder1, cylinder2, cylinder3])) # Visualizing the three cylinders is most conveniently achieved by collecting them in a Compund and drawing the compound."
   ]
  },
  {
   "cell_type": "markdown",
   "metadata": {},
   "source": [
    "### Solids from Faces\n",
    "\n",
    "In the original OCC, the standard way of converting a selection of faces into a solid is the following two-step approach:\n",
    "1) Collect the faces in a shell. This shell must be closed (i.e. enclosing a finite region of 3D space) for step 2) to be possible.\n",
    "2) Convert the closed shell into a solid.\n",
    "\n",
    "To the author's knowledge, shells are not used in Netgen's OCC interface. Instead, faces can be summed (aka. fused) into a single\n",
    "TopoDS_Shape instance. The TopoDS_Shape class appears to be a wrapper which can contain any single geometrical entity, but it seems\n",
    "that it is most often used in much the same way as the original OCC's solids. However, somewhat confusingly, Netgen's OCC interface\n",
    "does contain a class known as Solid. It is not clear how this class is supposed to be used, especially considering\n",
    "that it has no constructor (at time of writing 2022-03-16).\n",
    "\n",
    "Below, we show how to create a \"solid-like\" TopoDS_Shape in the form of a tetrahedron."
   ]
  },
  {
   "cell_type": "code",
   "execution_count": 9,
   "metadata": {},
   "outputs": [
    {
     "data": {
      "application/vnd.jupyter.widget-view+json": {
       "model_id": "25c5b44344ce4710b99f71a5b098d1a5",
       "version_major": 2,
       "version_minor": 0
      },
      "text/plain": [
       "WebGuiWidget(layout=Layout(height='500px', width='100%'), value={'ngsolve_version': 'Netgen x.x', 'mesh_dim': …"
      ]
     },
     "metadata": {},
     "output_type": "display_data"
    },
    {
     "name": "stdout",
     "output_type": "stream",
     "text": [
      "face\n",
      "edge: (0, 0, 0) - (1, 0, 0)\n",
      "edge: (0, 0, 0) - (0, 0, 1)\n",
      "edge: (1, 0, 0) - (0, 0, 1)\n",
      "face\n",
      "edge: (0, 0, 0) - (0, 1, 0)\n",
      "edge: (0, 1, 0) - (0, 0, 1)\n",
      "edge: (0, 0, 0) - (0, 0, 1)\n",
      "face\n",
      "edge: (0, 0, 0) - (0, 1, 0)\n",
      "edge: (0, 0, 0) - (1, 0, 0)\n",
      "edge: (0, 1, 0) - (1, 0, 0)\n",
      "face\n",
      "edge: (0, 1, 0) - (1, 0, 0)\n",
      "edge: (0, 1, 0) - (0, 0, 1)\n",
      "edge: (1, 0, 0) - (0, 0, 1)\n"
     ]
    }
   ],
   "source": [
    "p1 = occ.Pnt((0,0,0))\n",
    "p2 = occ.Pnt((0,1,0))\n",
    "p3 = occ.Pnt((1,0,0))\n",
    "p4 = occ.Pnt((0,0,1))\n",
    "\n",
    "l1 = occ.Segment(p1,p2)\n",
    "l2 = occ.Segment(p1,p3)\n",
    "l3 = occ.Segment(p1,p4)\n",
    "l4 = occ.Segment(p2,p3)\n",
    "l5 = occ.Segment(p2,p4)\n",
    "l6 = occ.Segment(p3,p4)\n",
    "\n",
    "w1 = occ.Wire([l2,l3,l6])\n",
    "w2 = occ.Wire([l1,l5,l3])\n",
    "w3 = occ.Wire([l1,l2,l4])\n",
    "w4 = occ.Wire([l4,l5,l6])\n",
    "\n",
    "f1 = occ.Face(w1)\n",
    "f2 = occ.Face(w2)\n",
    "f3 = occ.Face(w3)\n",
    "f4 = occ.Face(w4)\n",
    "\n",
    "tetrahedron = sum([f1, f2, f3, f4])\n",
    "\n",
    "netgui.Draw(tetrahedron)\n",
    "\n",
    "# The faces and edges of a solid can be accessed like this:\n",
    "for f in tetrahedron.faces:\n",
    "    print (\"face\")\n",
    "    for e in f.edges:\n",
    "        print (\"edge:\", e.start, \"-\", e.end)"
   ]
  },
  {
   "cell_type": "markdown",
   "metadata": {},
   "source": [
    "### Primitive Solids\n",
    "\n",
    "It can be cumbersome to construct solids like shown above. Netgen therefore provides constructors for several commonly-used,\n",
    "simple geometries like cylinders, spheres and boxes (execute help(occ) for a full list). The three mentioned examples are\n",
    "shown below."
   ]
  },
  {
   "cell_type": "code",
   "execution_count": 10,
   "metadata": {},
   "outputs": [
    {
     "data": {
      "application/vnd.jupyter.widget-view+json": {
       "model_id": "7f05e391a047497fb7dfaffb24e32d22",
       "version_major": 2,
       "version_minor": 0
      },
      "text/plain": [
       "WebGuiWidget(layout=Layout(height='500px', width='100%'), value={'ngsolve_version': 'Netgen x.x', 'mesh_dim': …"
      ]
     },
     "metadata": {},
     "output_type": "display_data"
    },
    {
     "data": {
      "text/plain": [
       "BaseWebGuiScene"
      ]
     },
     "execution_count": 10,
     "metadata": {},
     "output_type": "execute_result"
    }
   ],
   "source": [
    "sphere   = occ.Sphere(occ.Pnt(0,0,0), 3)                      # Arguments are: center point, radius.\n",
    "cylinder = occ.Cylinder(occ.Pnt(0,0,5), occ.Dir(0,0,1), 3, 2) # Arguments are: base point, axis direction, radius, height.\n",
    "box      = occ.Box(occ.Pnt(4, 0, 0), occ.Pnt(5, 1, 3))        # Arguments are: two diagonally opposing corner points.\n",
    "\n",
    "netgui.Draw(occ.Compound([sphere, cylinder, box]))"
   ]
  },
  {
   "cell_type": "markdown",
   "metadata": {},
   "source": [
    "## Working in 2D with OCC\n",
    "\n",
    "While OCC is primarily designed for 3D modelling, it can also be used for powerful 2D modelling through the use of workplanes.\n",
    "A workplane is defined by a local coordinate system given by an Axes object. An Axes object is specified by its origin,\n",
    "the normal vector to its plane (n), and its local x-direction (h)."
   ]
  },
  {
   "cell_type": "code",
   "execution_count": 11,
   "metadata": {},
   "outputs": [],
   "source": [
    "plane = occ.WorkPlane(occ.Axes((1,2,3), n=occ.Vec(1,1,0), h=occ.Vec(1,-1, 1)))\n",
    "#help(plane)"
   ]
  },
  {
   "cell_type": "markdown",
   "metadata": {},
   "source": [
    "A simple intoduction to workplanes can be found at https://docu.ngsolve.org/latest/i-tutorials/unit-4.4-occ/workplane.html\n",
    "Below, we show how to create a bent 3D pipe using workplanes."
   ]
  },
  {
   "cell_type": "code",
   "execution_count": 12,
   "metadata": {},
   "outputs": [
    {
     "data": {
      "application/vnd.jupyter.widget-view+json": {
       "model_id": "b967f9a5dc4c49b1a822c763333741aa",
       "version_major": 2,
       "version_minor": 0
      },
      "text/plain": [
       "WebGuiWidget(layout=Layout(height='500px', width='100%'), value={'ngsolve_version': 'Netgen x.x', 'mesh_dim': …"
      ]
     },
     "metadata": {},
     "output_type": "display_data"
    },
    {
     "data": {
      "text/plain": [
       "BaseWebGuiScene"
      ]
     },
     "execution_count": 12,
     "metadata": {},
     "output_type": "execute_result"
    }
   ],
   "source": [
    "wp = occ.WorkPlane(occ.Axes((0,0,0), n=occ.Z, h=occ.X))\n",
    "wp.Circle(1,2,0.5)\n",
    "wp.Circle(1,2,0.3).Reverse() # Reversing the wire creates a cut, rather than a shape.\n",
    "cross_section = wp.Face()\n",
    "pipe = cross_section.Revolve(occ.Axis((0,0,0),occ.Y), 90)\n",
    "\n",
    "netgui.Draw(pipe)"
   ]
  },
  {
   "cell_type": "markdown",
   "metadata": {},
   "source": [
    "## Accessing and Modifying Shape Properties\n",
    "\n",
    "We have already seen how to access a shape's faces and edges. Here, we will take a look at how to access and modify other\n",
    "useful shape properties. The most useful of these are .mat, .bc and .maxh, which describe the shape's material, boundary\n",
    "condition and maximum grid size, respectively. .col (color) and .name are some of the other potentially useful properties.\n",
    "Below, we re-create the tetrahedron created above while specifying its material, and the BCs, maxh's and colors of its faces."
   ]
  },
  {
   "cell_type": "code",
   "execution_count": 13,
   "metadata": {},
   "outputs": [
    {
     "data": {
      "application/vnd.jupyter.widget-view+json": {
       "model_id": "e7b0eadcc4a84e078eb174dcf1ec0a3f",
       "version_major": 2,
       "version_minor": 0
      },
      "text/plain": [
       "WebGuiWidget(layout=Layout(height='500px', width='100%'), value={'ngsolve_version': 'Netgen x.x', 'mesh_dim': …"
      ]
     },
     "metadata": {},
     "output_type": "display_data"
    },
    {
     "data": {
      "text/plain": [
       "BaseWebGuiScene"
      ]
     },
     "execution_count": 13,
     "metadata": {},
     "output_type": "execute_result"
    }
   ],
   "source": [
    "f1 = occ.Face(w1).bc(\"xz\")\n",
    "f1.maxh = 0.5\n",
    "f1.col = (0,0,1)\n",
    "f2 = occ.Face(w2).bc(\"yz\")\n",
    "f2.maxh = 0.5\n",
    "f2.col = (0,1,0)\n",
    "f3 = occ.Face(w3).bc(\"xy\")\n",
    "f3.maxh = 0.05\n",
    "f3.col = (1,0,0)\n",
    "f4 = occ.Face(w4).bc(\"diag\")\n",
    "f4.maxh = 0.5\n",
    "f4.col = (0.5,0.5,0.5)\n",
    "\n",
    "tetrahedron = sum([f1, f2, f3, f4]).mat(\"Steel\")\n",
    "\n",
    "netgui.Draw(tetrahedron)"
   ]
  },
  {
   "cell_type": "markdown",
   "metadata": {},
   "source": [
    "Instead of creating a brand new shape, we could also have accessed the faces of the existing shape and modified their\n",
    "properties directly. If we know the order of the faces in the shape's list of faces, we can do this as follows."
   ]
  },
  {
   "cell_type": "code",
   "execution_count": 14,
   "metadata": {},
   "outputs": [
    {
     "data": {
      "application/vnd.jupyter.widget-view+json": {
       "model_id": "211fcba748404d63968f7a11d0f9a3cf",
       "version_major": 2,
       "version_minor": 0
      },
      "text/plain": [
       "WebGuiWidget(layout=Layout(height='500px', width='100%'), value={'ngsolve_version': 'Netgen x.x', 'mesh_dim': …"
      ]
     },
     "metadata": {},
     "output_type": "display_data"
    },
    {
     "data": {
      "text/plain": [
       "BaseWebGuiScene"
      ]
     },
     "execution_count": 14,
     "metadata": {},
     "output_type": "execute_result"
    }
   ],
   "source": [
    "tetrahedron.faces[0].col = (0,1,1)\n",
    "netgui.Draw(tetrahedron)"
   ]
  },
  {
   "cell_type": "markdown",
   "metadata": {},
   "source": [
    "If we do not know the order of the faces-list (or for some other reason don't want to use it), it is possible to use\n",
    "so-called shape selectors instead. Unfortunately, Netgen only supports two shape selectors (Max and Min) at the moment,\n",
    "but the developers are aiming to add more in the near future. The Max and Min selectors finds the sub-shapes where the\n",
    "center of gravity has maximal or minimal coordinates in a given direction. See https://docu.ngsolve.org/latest/i-tutorials/unit-4.4-occ/occ.html for examples."
   ]
  },
  {
   "cell_type": "markdown",
   "metadata": {},
   "source": [
    "## Creating Complex Geometries by Combining Primitives\n",
    "\n",
    "Previously, for visualization purposes, we have created so-called compounds from individual shapes.\n",
    "A compound is simply a wrapper containing various shapes, which could be anything from points to solids.\n",
    "Moreover, the shapes used to create a compound may or may not be overlapping, though the visualization\n",
    "may look a bit strange if they are overlapping. Compunded shapes are meshed completely independently."
   ]
  },
  {
   "cell_type": "code",
   "execution_count": 1,
   "metadata": {},
   "outputs": [
    {
     "ename": "NameError",
     "evalue": "name 'occ' is not defined",
     "output_type": "error",
     "traceback": [
      "\u001b[0;31m---------------------------------------------------------------------------\u001b[0m",
      "\u001b[0;31mNameError\u001b[0m                                 Traceback (most recent call last)",
      "Cell \u001b[0;32mIn[1], line 1\u001b[0m\n\u001b[0;32m----> 1\u001b[0m wp \u001b[39m=\u001b[39m occ\u001b[39m.\u001b[39mWorkPlane(occ\u001b[39m.\u001b[39mAxes((\u001b[39m0\u001b[39m,\u001b[39m0\u001b[39m,\u001b[39m0\u001b[39m), n\u001b[39m=\u001b[39mocc\u001b[39m.\u001b[39mZ, h\u001b[39m=\u001b[39mocc\u001b[39m.\u001b[39mX))\n\u001b[1;32m      2\u001b[0m c1 \u001b[39m=\u001b[39m wp\u001b[39m.\u001b[39mCircle(\u001b[39m0\u001b[39m,\u001b[39m0\u001b[39m,\u001b[39m0.5\u001b[39m)\u001b[39m.\u001b[39mFace()\n\u001b[1;32m      3\u001b[0m c2 \u001b[39m=\u001b[39m wp\u001b[39m.\u001b[39mCircle(\u001b[39m0.5\u001b[39m,\u001b[39m0\u001b[39m,\u001b[39m0.5\u001b[39m)\u001b[39m.\u001b[39mFace()\n",
      "\u001b[0;31mNameError\u001b[0m: name 'occ' is not defined"
     ]
    }
   ],
   "source": [
    "wp = occ.WorkPlane(occ.Axes((0,0,0), n=occ.Z, h=occ.X))\n",
    "c1 = wp.Circle(0,0,0.5).Face()\n",
    "c2 = wp.Circle(0.5,0,0.5).Face()\n",
    "c3 = wp.Circle(0,1.5,0.5).Face()\n",
    "c1.col = (0,0,1)\n",
    "c2.col = (0,1,0)\n",
    "c3.col = (1,0,0)\n",
    "netgui.Draw(occ.Compound([c1, c2, c3]))"
   ]
  },
  {
   "cell_type": "markdown",
   "metadata": {},
   "source": [
    "In addition to creating compounds, shapes can be combined in at least four different ways:\n",
    "1. fusing\n",
    "2. gluing\n",
    "3. cutting\n",
    "4. intersecting\n",
    "\n",
    "Fusing and gluing are both additive operations, but differ in the way\n",
    "they handle the interface between the original shapes. When gluing, the interface is retained, while the\n",
    "interface is not retained when fusing. Thus, gluing is useful e.g. when modelling a composite system made\n",
    "from components of different materials, while fusing is useful e.g. when the geometry of a uniform component\n",
    "can easily be described as the combination of several simpler geometries.\n",
    "Cutting means subtracting one shape from another.\n",
    "Intersection means creating a new shape from the region of space encomassed by both the original shapes.\n",
    "\n",
    "Fusing, cutting and intersecting is achieved using the +, - and * operators.\n",
    "This means that fusing a large number of shapes can be achieved by executing sum([shape1, shape2, ..., shapeN]).\n",
    "Gluing is achieved by calling occ.Glue with the list of shapes to glue as its argument.\n",
    "\n",
    "Below we show some examples of how to combine primitives to create complex geometries using OCC."
   ]
  },
  {
   "cell_type": "code",
   "execution_count": 16,
   "metadata": {},
   "outputs": [
    {
     "data": {
      "application/vnd.jupyter.widget-view+json": {
       "model_id": "adf103c4e0f243cd8d3457e4868fe95a",
       "version_major": 2,
       "version_minor": 0
      },
      "text/plain": [
       "WebGuiWidget(layout=Layout(height='500px', width='100%'), value={'ngsolve_version': 'Netgen x.x', 'mesh_dim': …"
      ]
     },
     "metadata": {},
     "output_type": "display_data"
    }
   ],
   "source": [
    "# Note that there is no interface between the cylinder and the box in the combined shape.\n",
    "box = occ.Box(occ.Pnt(0,0,0), occ.Pnt(1,1,1))\n",
    "for f in box.faces:\n",
    "    f.col = (0,0,1)\n",
    "cyl = occ.Cylinder(occ.Pnt(1,0.5,0.5), occ.X, r=0.3, h=0.5)\n",
    "for f in cyl.faces:\n",
    "    f.col = (0,1,0)\n",
    "\n",
    "fuse_cyl_box = cyl + box\n",
    "#netgui.Draw(fuse_cyl_box)\n",
    "\n",
    "# Even if the cylinder pokes into the box, the fused shape has no interface between the two.\n",
    "cyl2 = cyl.Move((-0.2,0,0))\n",
    "fuse_cyl2_box = cyl2 + box\n",
    "#netgui.Draw(fuse_cyl2_box)\n",
    "\n",
    "# When gluing, the interface between the two shapes is retained. (It is not clear how the color of the common face is chosen.)\n",
    "glue_cyl_box = occ.Glue([box, cyl])\n",
    "#netgui.Draw(glue_cyl_box)\n",
    "\n",
    "# When the cylinder pokes into the box, all the faces of the cylinder inside the box are retained.\n",
    "# It is not clear what the material of the intersection will be if the box and the cylinder are originally defined as being made from different materials.\n",
    "glue_cyl2_box = occ.Glue([box, cyl2])\n",
    "#netgui.Draw(glue_cyl2_box)\n",
    "\n",
    "# Cutting.\n",
    "cut_box = box-cyl2\n",
    "netgui.Draw(cut_box)\n",
    "\n",
    "# Intersecting.\n",
    "intersect = box*cyl2\n",
    "#netgui.Draw(intersect)"
   ]
  },
  {
   "cell_type": "markdown",
   "metadata": {},
   "source": [
    "## Creating a Mesh Based on an OCC Geometry\n",
    "\n",
    "Suppose now that you have created a shape which adequately represents the geometry of your system. Then, you are ready\n",
    "to actually create your mesh. The first step of the mesh generation process is to create an OCCGeometry object from\n",
    "your shape.\n",
    "\n",
    "The first step is to create an OCCGeometry object as follows:\n",
    "\n"
   ]
  },
  {
   "cell_type": "code",
   "execution_count": 17,
   "metadata": {},
   "outputs": [],
   "source": [
    "geo = occ.OCCGeometry(tetrahedron)"
   ]
  },
  {
   "cell_type": "markdown",
   "metadata": {},
   "source": [
    "According to the documentation, it is possible to call the OCCGeometry constructor with a list of shapes instead of a\n",
    "single shape as we did above. However, in the author's experience, this has been unreliable when using markedboundaries\n",
    "and/or subdomains. Therefore, the author recommends that uses combine their primitives into a singleshape and call the\n",
    "OCCGeometry constructor with the combined shape as the sole argument.\n",
    "\n",
    "Once the OCCGeometry object has been constructed, the mesh is generated easily like below. The present author has not\n",
    "studiued which rules are used for the mesh generation process. In the long run, it would be interesting to expand this\n",
    "section with some examples of how to e.g. for mesh regularity."
   ]
  },
  {
   "cell_type": "code",
   "execution_count": 18,
   "metadata": {},
   "outputs": [
    {
     "data": {
      "application/vnd.jupyter.widget-view+json": {
       "model_id": "278fe673c4a7432581410845a8bcea4a",
       "version_major": 2,
       "version_minor": 0
      },
      "text/plain": [
       "WebGuiWidget(layout=Layout(height='500px', width='100%'), value={'gui_settings': {}, 'ngsolve_version': '6.2.2…"
      ]
     },
     "metadata": {},
     "output_type": "display_data"
    },
    {
     "data": {
      "text/plain": [
       "BaseWebGuiScene"
      ]
     },
     "execution_count": 18,
     "metadata": {},
     "output_type": "execute_result"
    }
   ],
   "source": [
    "netgen_mesh = geo.GenerateMesh(maxh=0.05) # Generate Netgen-mesh. The argument maxh (optional) sets the global maximum cell size.\n",
    "                                          # For any face, the minimum of the face's maxh parameter and the shape's global maxh parameter is used.\n",
    "mesh        = ng.Mesh(netgen_mesh)        # Create a mesh that can be used by NGSolve, based on the Netgen-mesh. (The author has not studied the\n",
    "                                          # difference between the meshes of Netgen and NGSolve, and hence does not know why this conversion is needed.)\n",
    "nggui.Draw(mesh)"
   ]
  },
  {
   "cell_type": "markdown",
   "metadata": {},
   "source": [
    "This pages demonstrates how the mesh topology can be explored: https://docu.ngsolve.org/v6.2.1910/i-tutorials/unit-1.8-meshtopology/meshtopology.html"
   ]
  },
  {
   "cell_type": "markdown",
   "metadata": {},
   "source": [
    "# SplineGeometry (geom2d)\n",
    "\n",
    "The essential concept of Netgen's 2D SplineGeometry is to define vertices and splines\n",
    "(curves defined by piecewise continuous polynomials) connecting the vertices. By convention,\n",
    "each spline separates two subdomains, identified by their integer indices. Index 0 is used\n",
    "to identify areas that should not be included in the mesh. All subdomain indices can be\n",
    "associated with a name (e.g. specifying the material it is made of) using the SetMaterial\n",
    "function. Additionally, when creating a spline, it is possible to specify a string identifying\n",
    "the boundary condition to be imposed on that spline.\n",
    "\n",
    "Note that, if the splines are drawn (or their left-/rightdomains are specified) such that the domain\n",
    "definition is ambiguous, the mesh generation process will fail. In most scenarios, it\n",
    "will fail without producing any helpful error message. Instead of crashing, the program may also get\n",
    "stuck in an infinite loop. Therefore, when using SplineGeometry,\n",
    "it is recommended that developers:\n",
    "- build the geometry in modules of increasing complexity.\n",
    "- continuously create meshes for the individual modules to catch potential errors early."
   ]
  },
  {
   "cell_type": "markdown",
   "metadata": {},
   "source": [
    "# Examples"
   ]
  },
  {
   "cell_type": "markdown",
   "metadata": {},
   "source": [
    "## A 2D Punctured Disk Made from Three Different Materials\n",
    "\n",
    "This is most conveniently modelled using SplineGeometry."
   ]
  },
  {
   "cell_type": "code",
   "execution_count": 21,
   "metadata": {},
   "outputs": [
    {
     "data": {
      "application/vnd.jupyter.widget-view+json": {
       "model_id": "93d92b5455284a659262a93085c911fe",
       "version_major": 2,
       "version_minor": 0
      },
      "text/plain": [
       "WebGuiWidget(layout=Layout(height='500px', width='100%'), value={'gui_settings': {}, 'ngsolve_version': '6.2.2…"
      ]
     },
     "metadata": {},
     "output_type": "display_data"
    },
    {
     "data": {
      "text/plain": [
       "BaseWebGuiScene"
      ]
     },
     "execution_count": 21,
     "metadata": {},
     "output_type": "execute_result"
    }
   ],
   "source": [
    "geo = geom2d.SplineGeometry()                                        # Initialize spline geometry\n",
    "\n",
    "r0, r1, r2, r3 = 1.0, 1.2, 1.4, 1.6                                  # Circle radii\n",
    "geo.AddCircle((0,0), r=r3, leftdomain=3, bc=\"Outer\")                 # The BC \"Outer\" will be applied to the circle's boundary. To the left of the boundary, we have domain 3.\n",
    "geo.AddCircle((0,0), r=r2, leftdomain=2, rightdomain=3)              # No BC is applied, since this circle's boundary is in the interior of the disk.\n",
    "geo.AddCircle((0,0), r=r1, leftdomain=1, rightdomain=2)              # To the right of left (inside) this circle's boundary, we have domain 1. To the right (outside), domain 2.\n",
    "geo.AddCircle((0,0), r=r0, leftdomain=0, rightdomain=1, bc=\"Inner\")  # The BC \"Inner\" will be applied to this circle's boundary.\n",
    "geo.SetMaterial(3, \"mat3\")                                           # Domain 3 is marked as being made from the material \"mat3\".\n",
    "geo.SetMaterial(2, \"mat2\")\n",
    "geo.SetMaterial(1, \"mat1\")\n",
    "mesh = ng.Mesh(geo.GenerateMesh(maxh=0.3))                           # Generate mesh from geometry. The parameter maxh describes the maximum grid size.\n",
    "mesh.Curve(2)                                                        # Curved boudnaries are approximated using polynomials of order 2.\n",
    "\n",
    "cf = mesh.RegionCF(ng.VOL, dict(mat1=1, mat2=2, mat3=3))             # Creating a coefficient function which is equal to 1 for points of material \"mat1\", etc.\n",
    "nggui.Draw(cf, mesh)                                                 # Visualizaing the coefficient function and the mesh."
   ]
  },
  {
   "cell_type": "markdown",
   "metadata": {},
   "source": [
    "## A Steel Cylinder Piercing a Foam Box"
   ]
  },
  {
   "cell_type": "code",
   "execution_count": 23,
   "metadata": {},
   "outputs": [
    {
     "data": {
      "application/vnd.jupyter.widget-view+json": {
       "model_id": "5d6cc7b6b913478c9bc1d61f5f55318a",
       "version_major": 2,
       "version_minor": 0
      },
      "text/plain": [
       "WebGuiWidget(layout=Layout(height='500px', width='100%'), value={'gui_settings': {}, 'ngsolve_version': '6.2.2…"
      ]
     },
     "metadata": {},
     "output_type": "display_data"
    },
    {
     "data": {
      "application/vnd.jupyter.widget-view+json": {
       "model_id": "9ef719635db3409a8c1aace34f64d7dc",
       "version_major": 2,
       "version_minor": 0
      },
      "text/plain": [
       "WebGuiWidget(layout=Layout(height='500px', width='100%'), value={'gui_settings': {}, 'ngsolve_version': '6.2.2…"
      ]
     },
     "metadata": {},
     "output_type": "display_data"
    },
    {
     "name": "stdout",
     "output_type": "stream",
     "text": [
      "Checking that no element which should have been steel is foam, and vice versa.\n"
     ]
    }
   ],
   "source": [
    "w,d,h = 2,2,1\n",
    "r = 0.5\n",
    "assert r < 0.5*w and r < 0.5*d\n",
    "\n",
    "supp_maxh = 0.05\n",
    "foam_maxh = 0.2\n",
    "\n",
    "box = occ.Box(occ.Pnt(0,0,0), occ.Pnt(w,d,h))\n",
    "for f in box.faces: # Set BC of all box faces to \"sides\".\n",
    "    f.bc(\"sides\")\n",
    "box.faces.Max(occ.Z).bc(\"top\") # Change BC of top    box face to \"top\".\n",
    "box.faces.Min(occ.Z).bc(\"bot\") # Change BC of bottom box face to \"bot\".\n",
    "\n",
    "cyl = occ.Cylinder(occ.Pnt(w/2,d/2,0), occ.Dir(0,0,1), r, h)\n",
    "cyl.faces.Max(occ.Z).bc(\"top\") # Change BC of top    cylinder face to \"top\".\n",
    "cyl.faces.Min(occ.Z).bc(\"bot\") # Change BC of bottom cylinder face to \"bot\".\n",
    "\n",
    "foam = box - cyl  # The foam fills the part of the box not occupied by the support.\n",
    "\n",
    "cyl.mat(\"steel\")\n",
    "foam.mat(\"foam\")\n",
    "\n",
    "system = occ.Glue([cyl, foam])\n",
    "geo = occ.OCCGeometry(system)\n",
    "\n",
    "mesh = ng.Mesh(geo.GenerateMesh(maxh=0.2))\n",
    "mesh.Curve(3)\n",
    "\n",
    "vol_cf = mesh.RegionCF(ng.VOL, {\"steel\":1, \"foam\":2})\n",
    "bnd_cf = mesh.RegionCF(ng.BND, {\"top\":1, \"bot\":2, \"sides\":3})\n",
    "\n",
    "nggui.Draw(bnd_cf, mesh)\n",
    "nggui.Draw(comp.BoundaryFromVolumeCF(vol_cf), mesh)\n",
    "\n",
    "print(\"Checking that no element which should have been steel is foam, and vice versa.\")\n",
    "for el in mesh.Elements(ng.VOL):\n",
    "    inside = True\n",
    "    for v_id in el.vertices:\n",
    "        v = mesh.vertices[v_id.nr]\n",
    "        x = v.point[0]\n",
    "        y = v.point[1]\n",
    "        cx = w/2\n",
    "        cy = d/2\n",
    "        diff = np.sqrt((x-cx)**2 + (y-cy)**2)\n",
    "        if diff > r + 1e-5:\n",
    "            inside = False\n",
    "    if inside and el.mat != \"steel\":\n",
    "        print(\"Material:\", el.mat, \" but expected steel, id:\", v_id.nr)\n",
    "    if not inside and el.mat != \"foam\":\n",
    "        print(\"Material:\", el.mat, \" but expected foam,  id:\", v_id.nr)"
   ]
  }
 ],
 "metadata": {
  "interpreter": {
   "hash": "31f2aee4e71d21fbe5cf8b01ff0e069b9275f58929596ceb00d14d90e3e16cd6"
  },
  "kernelspec": {
   "display_name": "Python 3 (ipykernel)",
   "language": "python",
   "name": "python3"
  },
  "language_info": {
   "codemirror_mode": {
    "name": "ipython",
    "version": 3
   },
   "file_extension": ".py",
   "mimetype": "text/x-python",
   "name": "python",
   "nbconvert_exporter": "python",
   "pygments_lexer": "ipython3",
   "version": "3.10.12"
  }
 },
 "nbformat": 4,
 "nbformat_minor": 2
}
