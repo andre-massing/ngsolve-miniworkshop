{
 "cells": [
  {
   "cell_type": "markdown",
   "metadata": {},
   "source": [
    " # Dziuk's method for mean curvature flow\n",
    " In this tutorial we solve an example of a so-called *geometric evolution problem*.\n",
    " Such problems are characterized by the fact that we not only need to solve\n",
    " a PDE on a manifold, but that this PDE solution itself determines how the manifold\n",
    " is evolving over time.\n",
    " Here, we consider the prototype problems of all geometric evolution problems,\n",
    " the mean the so-called mean curvature flow. Roughly speaking, a time-dependent surface geometry  $\\Gamma_t$ follows the mean curvature flow, if\n",
    " the surface deforms in such way that the area integral\n",
    " $$ E(\\Gamma_t) = \\int_{\\Gamma_t} 1 \\;ds $$\n",
    " is minimized the fastest.\n",
    " Mean curvature flow is also an example of a curvature-driven interface evolution\n",
    " and such problems are ubiquitous in science and engineering and are used to\n",
    " describe problems such as\n",
    " - grain boundary motion in crystalline structures, e.g. snow flakes\n",
    " - phase separation problem (lava lamps, vinaigrette sauce)\n",
    " - tumor growth\n",
    " - shape optimization, e.g., optimization the shape of a wing to maximize drift/minimize drag)\n",
    " and many many more, see this [review article](https://link.springer.com/article/10.1365/s13291-013-0066-2),\n",
    " and [this one](https://www.cambridge.org/core/journals/acta-numerica/article/computation-of-geometric-partial-differential-equations-and-mean-curvature-flow/F2572D554B5D7CA83424E59F45D68EAE)\n",
    " for the plethora of approaches to solve such problems."
   ]
  },
  {
   "cell_type": "markdown",
   "metadata": {},
   "source": [
    " ## Mathematical description\n",
    " Let $\\Gamma$ be a\n",
    " closed oriented surface equipped with an outer normal vector field \n",
    " $\\nu$. \n",
    " Then a measure for how much the surface bend in space is given by the surface gradient \n",
    " of the normal field, \n",
    " $$\n",
    " \\Gamma  \\ni x \\mapsto \\nabla_\\Gamma\\nu(x) .\n",
    " $$\n",
    "\n",
    "This map is therefore also called the *Shape operator* (or *Weingarten map*).\n",
    " The mean curvature is simply defined by $H=\\mathrm{tr}(\\nabla_\\Gamma\\nu)$\n",
    " and corresponds to the sum of the largest and smallest nonvanishing eigenvalues of \n",
    "$\\nabla_\\Gamma\\nu(x)$"
   ]
  },
  {
   "cell_type": "markdown",
   "metadata": {},
   "source": [
    "For an evolving surface, we have the following picture in mind.\n",
    "Starting from a reference/initial geometry configuration $\\Gamma_0 = \\widehat{\\Gamma}$,\n",
    "the surface geometry at time $t$ is given by a parametrization $X(\\widehat{x},t)$\n",
    "$$\n",
    "\\Gamma_0 \\ni \\widehat{x} \\mapsto X(\\widehat{x}, t) = x \\in \\Gamma_t.\n",
    "$$\n",
    "\n",
    "For the mean curvature flow, it can be show that\n",
    "each point $X$ on the surface moves in normal direction of the surface \n",
    "with velocity $H\\,\\nu$, \n",
    "i.e. we have the equation\n",
    "$$\n",
    "\\partial_t X = -H\\,\\nu.\n",
    "$$"
   ]
  },
  {
   "cell_type": "markdown",
   "metadata": {},
   "source": [
    "It can be show that mean curvature vector $-H\\,\\nu$ is related to the parametrization $X$ via the\n",
    "Laplace-Beltrami problem\n",
    "$$\n",
    "H\\,\\nu=-\\Delta_\\Gamma X\n",
    "$$\n",
    "or weak form,\n",
    "$$\n",
    "\\int_{\\Gamma_t}\\partial_t X\\cdot v\\,ds = -\\int_{\\Gamma_t}\\nabla_{\\Gamma_t}X:\\nabla_{\\Gamma_t} v\\,ds \\qquad \\forall v\\in H^1(\\Gamma_t,\\mathbb{R^3}).\n",
    "$$\n",
    "Using the mass and stiffness forms\n",
    "$$\n",
    "m_t(X,v)=\\int_{\\Gamma_t}X\\cdot v\\,ds,\\qquad a_t(X,v):=\\int_{\\Gamma_t}\\nabla_{\\Gamma_t}X:\\nabla_{\\Gamma_t} v\\,ds\n",
    "$$\n",
    "the equation reads\n",
    "$$\n",
    "m_t(\\partial_tX,v)+a_t(X,v)=0.\n",
    "$$"
   ]
  },
  {
   "cell_type": "markdown",
   "metadata": {},
   "source": [
    "\n",
    "We use Dziuk's method for time discretization\n",
    "$$\n",
    "m_{t^n}(\\frac{X^{n+1}-X^n}{\\tau},v)+a_{t^n}(X^{n+1},v)=0.\n",
    "$$\n",
    "\n",
    "Note that when we integrate some $X(\\cdot, s)$ over some surface $\\Gamma_t$,\n",
    "we have to think about $X(\\cdot, s)$ as being reparametrized of $\\Gamma_t$, i.e.\n",
    "for $x = X(\\widehat{x}, t) \\in \\Gamma_t$ we have\n",
    "$$\n",
    "X(x,s) = X(X(\\widehat{x}, t), s)\n",
    "$$\n",
    "With this identification in mind, we realize that simply\n",
    "$$\n",
    "X(x,t) = x\n",
    "$$\n",
    "so $X(x,t)$ is simply the identity map $\\vec{id}: x \\mapsto x$ for  $x \\in \\Gamma_t$."
   ]
  },
  {
   "cell_type": "markdown",
   "metadata": {},
   "source": [
    "Now it is time to implement Dziuk's method in NGSolve. \n",
    "We start by defining the geometry and generating a mesh. "
   ]
  },
  {
   "cell_type": "code",
   "execution_count": null,
   "metadata": {},
   "outputs": [],
   "source": [
    "from ngsolve import *\n",
    "from netgen.occ import *\n",
    "from ngsolve.webgui import Draw\n",
    "R = 1\n",
    "sphere = Sphere((0,0,0),R).faces[0]\n",
    "\n",
    "# Mesh geometry with curved elements of order 2\n",
    "order_g = 2\n",
    "geo = OCCGeometry(sphere)\n",
    "\n",
    "maxh = 0.15\n",
    "mesh = Mesh(geo.GenerateMesh(maxh=maxh))\n",
    "mesh.Curve(order_g)\n",
    "Draw(mesh)"
   ]
  },
  {
   "cell_type": "markdown",
   "metadata": {},
   "source": [
    "Making the ansatz for the sphere $\\Gamma(t) = S_{R(t)}$ is a sphere of radius $R(t)$\n",
    "one can derive and solve a simple ODE for the radius $r(t)$\n",
    "to see that the evolution is described by\n",
    "$$\n",
    "R(t) = \\sqrt{R_0^2 - 4t}\n",
    "$$\n",
    "So our geometry will get extinct at time $T_{ext} =\\tfrac{R_0^2}{4}$"
   ]
  },
  {
   "cell_type": "code",
   "execution_count": null,
   "metadata": {},
   "outputs": [],
   "source": [
    "# Radius of exact solution at time t\n",
    "ex_R = lambda t : sqrt(R**2-4*t)\n",
    "# Extinction time\n",
    "Tend = R**2/4\n",
    "# time step\n",
    "tau = 2e-4"
   ]
  },
  {
   "cell_type": "markdown",
   "metadata": {},
   "source": [
    "We define function spaces as well as grid functions describing \n",
    "- the current displacement ```dXh``` which will describe how to deform the initial mesh into $\\Gamma_t$\n",
    "- and the identity map ```Idh``` on $\\Gamma_t$.\n",
    "\n",
    "To draw, integrate etc. on a deformed domain $\\Gamma_t$, we use the argument ```deformation=dXh```."
   ]
  },
  {
   "cell_type": "code",
   "execution_count": null,
   "metadata": {},
   "outputs": [],
   "source": [
    "order_p = 2\n",
    "V = VectorH1(mesh, order=order_p)\n",
    "\n",
    "# Displacement to apply deform initial mesh to final mesh\n",
    "dXh = GridFunction(V)\n",
    "dXh.vec[:] = 0\n",
    "\n",
    "# Store identity mapping as grid function\n",
    "Idh = GridFunction(V)\n",
    "Idh.Set( CF( (x,y,z) ), definedon=mesh.Boundaries(\".*\"))\n",
    "\n",
    "# Inital deformation\n",
    "Xh = GridFunction(V)\n",
    "Xh.Set( CF( (x,y,z) ), definedon=mesh.Boundaries(\".*\"))\n",
    "\n",
    "# scene = Draw(Xh, mesh, deformation=Xh, vectors=True)\n",
    "scene = Draw(Norm(dXh), mesh, deformation=dXh)\n",
    "# TODO: vectors=True does not draw vectors on surface mesh?\n",
    "# scene = Draw(CF((x,y,z)), mesh, deformation=Xh, vectors=True)\n",
    "# norm_Xh = Norm(Xh)\n"
   ]
  },
  {
   "cell_type": "markdown",
   "metadata": {},
   "source": [
    "Now we simply implement the weak form of Dziuk's method, with the little twist that we ask to integrate over the deformed domain."
   ]
  },
  {
   "cell_type": "code",
   "execution_count": null,
   "metadata": {},
   "outputs": [],
   "source": [
    "X,Y = V.TnT()\n",
    "\n",
    "M = BilinearForm(V)\n",
    "M += (X*Y + tau*InnerProduct(grad(X).Trace(), grad(Y).Trace()))*ds(deformation=dXh)\n",
    "M.Assemble()\n",
    "Minv = M.mat.Inverse(V.FreeDofs(), inverse=\"sparsecholesky\")\n",
    "\n",
    "l = LinearForm(V)\n",
    "l += CF((x,y,z))*Y*ds(deformation=dXh)\n",
    "l.Assemble()\n"
   ]
  },
  {
   "cell_type": "markdown",
   "metadata": {},
   "source": [
    "Let's do the time-stepping. Here we use a) the ```Taskmanager``` which automatically can use several processor threads to solve our problem.\n",
    "Moreover, we use the ```Update``` to update the inverse matrix computation."
   ]
  },
  {
   "cell_type": "code",
   "execution_count": null,
   "metadata": {},
   "outputs": [],
   "source": [
    "i = 0\n",
    "t = 0\n",
    "with TaskManager():\n",
    "    while t <= Tend-tau:\n",
    "        print (\"\\rt=\", t, end=\"\")\n",
    "        M.Assemble()\n",
    "        l.Assemble()\n",
    "        Minv.Update()\n",
    "        Xh.vec.data = Minv*l.vec\n",
    "        dXh.vec.data = Xh.vec - Idh.vec\n",
    "        \n",
    "        if i % 10 == 0:\n",
    "            scene.Redraw()\n",
    "        \n",
    "        t += tau\n",
    "        i += 1"
   ]
  },
  {
   "cell_type": "markdown",
   "metadata": {},
   "source": [
    "### Exercise\n",
    "\n",
    "As a conclusion of this workshop, we ask you to wrap the above solver into a little python function\n",
    "```python\n",
    "def solve_mcf(mesh, order_p, tau, Tend):\n",
    "    ...\n",
    "```\n",
    "\n",
    "and solve the MCF for a torus instead. You can use the function ```generate_torus_mesh``` from the ```helper module```.\n",
    "\n",
    "**Hint** Don't let your torus evolve longer than $T\\approx 0.1$"
   ]
  }
 ],
 "metadata": {
  "kernelspec": {
   "display_name": "cosmos-rjyneS77",
   "language": "python",
   "name": "python3"
  },
  "language_info": {
   "codemirror_mode": {
    "name": "ipython",
    "version": 3
   },
   "file_extension": ".py",
   "mimetype": "text/x-python",
   "name": "python",
   "nbconvert_exporter": "python",
   "pygments_lexer": "ipython3",
   "version": "3.11.5"
  },
  "orig_nbformat": 4
 },
 "nbformat": 4,
 "nbformat_minor": 2
}
